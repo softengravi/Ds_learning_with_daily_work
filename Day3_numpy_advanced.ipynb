{
 "cells": [
  {
   "cell_type": "markdown",
   "id": "09c4b8f8",
   "metadata": {},
   "source": [
    "## Introducing the broadcasting"
   ]
  },
  {
   "cell_type": "markdown",
   "id": "6fca0a9e",
   "metadata": {},
   "source": [
    "Recall that for arrays of the same size, binary operations are performed on an\n",
    "element-by-element basis:"
   ]
  },
  {
   "cell_type": "markdown",
   "id": "dee27ed8",
   "metadata": {},
   "source": [
    "\n",
    "Broadcasting allows these types of binary operations to be performed on arrays of dif‐\n",
    "ferent sizes—for example, we can just as easily add a scalar (think of it as a zero\u0002dimensional array) to an array:"
   ]
  },
  {
   "cell_type": "code",
   "execution_count": 3,
   "id": "2c7c0d46",
   "metadata": {},
   "outputs": [],
   "source": [
    "import numpy as np\n"
   ]
  },
  {
   "cell_type": "code",
   "execution_count": 4,
   "id": "2f9eaf0b",
   "metadata": {},
   "outputs": [],
   "source": [
    "a=np.array([0,1,2,3,4,5,6])"
   ]
  },
  {
   "cell_type": "code",
   "execution_count": 5,
   "id": "93f9d30a",
   "metadata": {},
   "outputs": [
    {
     "name": "stdout",
     "output_type": "stream",
     "text": [
      "[ 5  6  7  8  9 10 11]\n"
     ]
    }
   ],
   "source": [
    "print(a+5)"
   ]
  },
  {
   "cell_type": "markdown",
   "id": "9ea82f69",
   "metadata": {},
   "source": [
    "##### rules of broadcasting"
   ]
  },
  {
   "cell_type": "markdown",
   "id": "7153863b",
   "metadata": {},
   "source": [
    "• Rule 1: If the two arrays differ in their number of dimensions, the shape of the\n",
    "one with fewer dimensions is padded with ones on its leading (left) side.\n",
    "\n",
    "• Rule 2: If the shape of the two arrays does not match in any dimension, the array\n",
    "with shape equal to 1 in that dimension is stretched to match the other shape.\n",
    "\n",
    "• Rule 3: If in any dimension the sizes disagree and neither is equal to 1, an error is\n",
    "raised.\n"
   ]
  },
  {
   "cell_type": "markdown",
   "id": "1d14511c",
   "metadata": {},
   "source": [
    "###### basically broadcasting is use in numpy when the arrays have the differnet size and and get manage by itself . it helps in computation\n"
   ]
  },
  {
   "cell_type": "markdown",
   "id": "30eb93b7",
   "metadata": {},
   "source": [
    "###### broadcasting use"
   ]
  },
  {
   "cell_type": "code",
   "execution_count": 6,
   "id": "cf241f64",
   "metadata": {},
   "outputs": [],
   "source": [
    " X = np.random.random((10, 3))\n"
   ]
  },
  {
   "cell_type": "code",
   "execution_count": 7,
   "id": "0c66b233",
   "metadata": {},
   "outputs": [
    {
     "data": {
      "text/plain": [
       "array([0.48999702, 0.47226233, 0.42727233])"
      ]
     },
     "execution_count": 7,
     "metadata": {},
     "output_type": "execute_result"
    }
   ],
   "source": [
    " Xmean = X.mean(0)\n",
    " Xmean"
   ]
  },
  {
   "cell_type": "markdown",
   "id": "cafdb708",
   "metadata": {},
   "source": [
    "we get the mean of array by using the Xmean"
   ]
  },
  {
   "cell_type": "code",
   "execution_count": 8,
   "id": "5b2dff9e",
   "metadata": {},
   "outputs": [],
   "source": [
    " X_centered = X - Xmean"
   ]
  },
  {
   "cell_type": "code",
   "execution_count": 9,
   "id": "f82aaa68",
   "metadata": {},
   "outputs": [
    {
     "data": {
      "text/plain": [
       "array([ 8.8817842e-17, -4.4408921e-17,  0.0000000e+00])"
      ]
     },
     "execution_count": 9,
     "metadata": {},
     "output_type": "execute_result"
    }
   ],
   "source": [
    "X_centered.mean(0)\n"
   ]
  },
  {
   "cell_type": "markdown",
   "id": "2c8089ba",
   "metadata": {},
   "source": [
    "#### Plotting a two-dimensional function"
   ]
  },
  {
   "cell_type": "markdown",
   "id": "8710a9e2",
   "metadata": {},
   "source": [
    "One place that broadcasting is very useful is in displaying images based on two\u0002dimensional functions. If we want to define a function z = f(x, y), broadcasting can be\n",
    "used to compute the function across the grid:"
   ]
  },
  {
   "cell_type": "markdown",
   "id": "1e49d84d",
   "metadata": {},
   "source": [
    "### Sorting arrays"
   ]
  },
  {
   "cell_type": "markdown",
   "id": "f2697192",
   "metadata": {},
   "source": [
    "Fortunately, Python contains built-in sorting algorithms that are much more efficient\n",
    "than either of the simplistic algorithms just shown. We’ll start by looking at the\n",
    "Python built-ins, and then take a look at the routines included in NumPy and opti‐\n",
    "mized for NumPy arrays."
   ]
  },
  {
   "cell_type": "markdown",
   "id": "f0627a81",
   "metadata": {},
   "source": [
    "fficient and useful for our purposes. By default np.sort uses an ᇭ N log N , quick‐\n",
    "sort algorithm, though mergesort and heapsort are also available. For most applica‐\n",
    "tions, the default quicksort is more than sufficient."
   ]
  },
  {
   "cell_type": "code",
   "execution_count": 12,
   "id": "2a84aa29",
   "metadata": {},
   "outputs": [],
   "source": [
    "x = np.array([1,10,9,3,4,5,2,1,0])"
   ]
  },
  {
   "cell_type": "code",
   "execution_count": 13,
   "id": "0490105c",
   "metadata": {},
   "outputs": [
    {
     "data": {
      "text/plain": [
       "array([ 0,  1,  1,  2,  3,  4,  5,  9, 10])"
      ]
     },
     "execution_count": 13,
     "metadata": {},
     "output_type": "execute_result"
    }
   ],
   "source": [
    "np.sort(x)"
   ]
  },
  {
   "cell_type": "markdown",
   "id": "0cd82416",
   "metadata": {},
   "source": [
    "###### A related function is argsort, which instead returns the indices of the sorted\n",
    "elements:\n"
   ]
  },
  {
   "cell_type": "code",
   "execution_count": 14,
   "id": "952b6a49",
   "metadata": {},
   "outputs": [],
   "source": [
    "x1 = np.array([1,3,2,6,4,5])"
   ]
  },
  {
   "cell_type": "code",
   "execution_count": 15,
   "id": "e9a6d7e7",
   "metadata": {},
   "outputs": [
    {
     "data": {
      "text/plain": [
       "array([0, 2, 1, 4, 5, 3], dtype=int64)"
      ]
     },
     "execution_count": 15,
     "metadata": {},
     "output_type": "execute_result"
    }
   ],
   "source": [
    "np.argsort(x1)"
   ]
  },
  {
   "cell_type": "markdown",
   "id": "93d8bf2b",
   "metadata": {},
   "source": [
    "###### Sorting along rows or columns"
   ]
  },
  {
   "cell_type": "markdown",
   "id": "225f0b5f",
   "metadata": {},
   "source": [
    "A useful feature of NumPy’s sorting algorithms is the ability to sort along specific\n",
    "rows or columns of a multidimensional array using the axis argument. For example:"
   ]
  },
  {
   "cell_type": "code",
   "execution_count": 18,
   "id": "94642af0",
   "metadata": {},
   "outputs": [
    {
     "name": "stdout",
     "output_type": "stream",
     "text": [
      "[[6 3 7 4 6 9]\n",
      " [2 6 7 4 3 7]\n",
      " [7 2 5 4 1 7]\n",
      " [5 1 4 0 9 5]]\n"
     ]
    }
   ],
   "source": [
    "rand = np.random.RandomState(42)\n",
    "X = rand.randint(0, 10, (4, 6))\n",
    "print(X)"
   ]
  },
  {
   "cell_type": "code",
   "execution_count": 19,
   "id": "b2fdafb2",
   "metadata": {},
   "outputs": [
    {
     "data": {
      "text/plain": [
       "array([[2, 1, 4, 0, 1, 5],\n",
       "       [5, 2, 5, 4, 3, 7],\n",
       "       [6, 3, 7, 4, 6, 7],\n",
       "       [7, 6, 7, 4, 9, 9]])"
      ]
     },
     "execution_count": 19,
     "metadata": {},
     "output_type": "execute_result"
    }
   ],
   "source": [
    "np.sort(X, axis=0)\n"
   ]
  },
  {
   "cell_type": "code",
   "execution_count": 20,
   "id": "cec4c95e",
   "metadata": {},
   "outputs": [
    {
     "data": {
      "text/plain": [
       "array([[3, 4, 6, 6, 7, 9],\n",
       "       [2, 3, 4, 6, 7, 7],\n",
       "       [1, 2, 4, 5, 7, 7],\n",
       "       [0, 1, 4, 5, 5, 9]])"
      ]
     },
     "execution_count": 20,
     "metadata": {},
     "output_type": "execute_result"
    }
   ],
   "source": [
    "np.sort(X, axis=1)\n"
   ]
  },
  {
   "cell_type": "markdown",
   "id": "c896bbe2",
   "metadata": {},
   "source": [
    "##### partial sort partitioning"
   ]
  },
  {
   "cell_type": "markdown",
   "id": "e2db0649",
   "metadata": {},
   "source": [
    "Sometimes we’re not interested in sorting the entire array, but simply want to find the\n",
    "K smallest values in the array. NumPy provides this in the np.partition function.\n",
    "np.partition takes an array and a number K; the result is a new array with the small‐\n",
    "est K values to the left of the partition, and the remaining values to the right, in arbi‐\n",
    "trary order:"
   ]
  },
  {
   "cell_type": "markdown",
   "id": "ee363f45",
   "metadata": {},
   "source": [
    "###### just like finding pivot in quicksort"
   ]
  },
  {
   "cell_type": "code",
   "execution_count": 21,
   "id": "31880b9b",
   "metadata": {},
   "outputs": [],
   "source": [
    "a = np.array([3,6,8,9,2,4])\n"
   ]
  },
  {
   "cell_type": "code",
   "execution_count": 25,
   "id": "0d68180a",
   "metadata": {},
   "outputs": [
    {
     "data": {
      "text/plain": [
       "array([2, 3, 8, 9, 6, 4])"
      ]
     },
     "execution_count": 25,
     "metadata": {},
     "output_type": "execute_result"
    }
   ],
   "source": [
    "np.partition(a, 1)"
   ]
  },
  {
   "cell_type": "code",
   "execution_count": 26,
   "id": "9224c35d",
   "metadata": {},
   "outputs": [
    {
     "data": {
      "text/plain": [
       "array([2, 3, 4, 6, 8, 9])"
      ]
     },
     "execution_count": 26,
     "metadata": {},
     "output_type": "execute_result"
    }
   ],
   "source": [
    "np.partition(a, 4)"
   ]
  },
  {
   "cell_type": "code",
   "execution_count": 27,
   "id": "88738259",
   "metadata": {},
   "outputs": [
    {
     "data": {
      "text/plain": [
       "array([2, 3, 4, 6, 8, 9])"
      ]
     },
     "execution_count": 27,
     "metadata": {},
     "output_type": "execute_result"
    }
   ],
   "source": [
    "np.partition(a, 3)"
   ]
  },
  {
   "cell_type": "code",
   "execution_count": 28,
   "id": "1c6b9375",
   "metadata": {},
   "outputs": [
    {
     "data": {
      "text/plain": [
       "array([2, 3, 4, 9, 6, 8])"
      ]
     },
     "execution_count": 28,
     "metadata": {},
     "output_type": "execute_result"
    }
   ],
   "source": [
    "np.partition(a, 2)"
   ]
  },
  {
   "cell_type": "code",
   "execution_count": null,
   "id": "ba5ade14",
   "metadata": {},
   "outputs": [],
   "source": []
  }
 ],
 "metadata": {
  "kernelspec": {
   "display_name": "Python 3 (ipykernel)",
   "language": "python",
   "name": "python3"
  },
  "language_info": {
   "codemirror_mode": {
    "name": "ipython",
    "version": 3
   },
   "file_extension": ".py",
   "mimetype": "text/x-python",
   "name": "python",
   "nbconvert_exporter": "python",
   "pygments_lexer": "ipython3",
   "version": "3.10.9"
  }
 },
 "nbformat": 4,
 "nbformat_minor": 5
}
